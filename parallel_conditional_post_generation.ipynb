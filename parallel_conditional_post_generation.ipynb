{
 "cells": [
  {
   "cell_type": "code",
   "execution_count": 1,
   "id": "22136b2f",
   "metadata": {},
   "outputs": [
    {
     "data": {
      "text/plain": [
       "True"
      ]
     },
     "execution_count": 1,
     "metadata": {},
     "output_type": "execute_result"
    }
   ],
   "source": [
    "import os \n",
    "from dotenv import load_dotenv\n",
    "\n",
    "load_dotenv()"
   ]
  },
  {
   "cell_type": "code",
   "execution_count": 2,
   "id": "575ebe51",
   "metadata": {},
   "outputs": [],
   "source": [
    "from langgraph.graph import StateGraph, START, END\n",
    "from typing import TypedDict, Literal\n",
    "from langchain_google_genai import ChatGoogleGenerativeAI\n",
    "from langchain_core.prompts import ChatPromptTemplate\n",
    "from pydantic import BaseModel, Field"
   ]
  },
  {
   "cell_type": "code",
   "execution_count": 3,
   "id": "b363f574",
   "metadata": {},
   "outputs": [],
   "source": [
    "class MediaPostState(TypedDict):\n",
    "    topic:str\n",
    "    post:str\n",
    "    evaluation:str\n",
    "    feedback:str\n",
    "    max_iteration:int"
   ]
  },
  {
   "cell_type": "code",
   "execution_count": 4,
   "id": "6c1956df",
   "metadata": {},
   "outputs": [],
   "source": [
    "class Evaluation(BaseModel):\n",
    "    evaluation: Literal[\"approved\", \"needs_improvement\"] = Field(..., description=\"Final evaluation result.\")\n",
    "    feedback: str = Field(..., description=\"feedback for the tweet.\")"
   ]
  },
  {
   "cell_type": "code",
   "execution_count": 5,
   "id": "289af58f",
   "metadata": {},
   "outputs": [],
   "source": [
    "generation_llm = ChatGoogleGenerativeAI(\n",
    "    model=\"gemini-1.5-flash\",\n",
    "    temperature=0.7\n",
    ")\n",
    "\n",
    "evaluation_llm = ChatGoogleGenerativeAI(\n",
    "    model=\"gemini-2.0-flash\",\n",
    "    temperature=0.7\n",
    ")\n",
    "\n",
    "optimize_llm = ChatGoogleGenerativeAI(\n",
    "    model=\"gemini-1.5-flash\",\n",
    "    temperature=0.7\n",
    ")"
   ]
  },
  {
   "cell_type": "code",
   "execution_count": 6,
   "id": "51448d9f",
   "metadata": {},
   "outputs": [],
   "source": [
    "structure_evaluation_llm = evaluation_llm.with_structured_output(Evaluation)"
   ]
  },
  {
   "cell_type": "code",
   "execution_count": 7,
   "id": "6ed61c15",
   "metadata": {},
   "outputs": [],
   "source": [
    "generation_prompt = ChatPromptTemplate.from_template(\n",
    "    \"\"\"\n",
    "Write a short, original, and hilarious tweet on the topic: {topic}.\n",
    "\n",
    "Rules:\n",
    "- Do NOT use question-answer format.\n",
    "- Max 280 characters.\n",
    "- Use observational humor, irony, sarcasm, or cultural references.\n",
    "- Think in meme logic, punchlines, or relatable takes.\n",
    "- Use simple, day to day english\n",
    "\"\"\"\n",
    ")\n",
    "\n",
    "evaluation_prompt = ChatPromptTemplate.from_template(\n",
    "    \"\"\"You are a ruthless, no-laugh-given Twitter critic. You evaluate tweets based on \n",
    "    humor, originality, virality, and tweet format.\n",
    "    \n",
    "    Evaluate the following tweet:\n",
    "\n",
    "Tweet: {tweet}\n",
    "\n",
    "Use the criteria below to evaluate the tweet:\n",
    "\n",
    "1. Originality – Is this fresh, or have you seen it a hundred times before?  \n",
    "2. Humor – Did it genuinely make you smile, laugh, or chuckle?  \n",
    "3. Punchiness – Is it short, sharp, and scroll-stopping?  \n",
    "4. Virality Potential – Would people retweet or share it?  \n",
    "5. Format – Is it a well-formed tweet (not a setup-punchline joke, not a Q&A joke, and under 280 characters)?\n",
    "\n",
    "Auto-reject if:\n",
    "- It's written in question-answer format (e.g., \"Why did...\" or \"What happens when...\")\n",
    "- It exceeds 280 characters\n",
    "- It reads like a traditional setup-punchline joke\n",
    "- Dont end with generic, throwaway, or deflating lines that weaken the humor (e.g., “Masterpieces of the auntie-uncle universe” or vague summaries)\n",
    "\n",
    "### Respond ONLY in structured format:\n",
    "- evaluation: \"approved\" or \"needs_improvement\"  \n",
    "- feedback: One paragraph explaining the strengths and weaknesses \n",
    "\"\"\"\n",
    ")\n",
    "\n",
    "optimize_prompt = ChatPromptTemplate.from_template(\n",
    "    \"\"\"You punch up tweets for virality and humor based on given feedback.\n",
    "    \n",
    "    Improve the tweet based on this feedback:\n",
    "{feedback}\n",
    "\n",
    "Topic: {topic}\n",
    "Original Tweet:\n",
    "{tweet}\n",
    "\n",
    "Re-write it as a short, viral-worthy tweet. Avoid Q&A style and stay under 280 characters.\n",
    "    \n",
    "    \"\"\"\n",
    ")"
   ]
  },
  {
   "cell_type": "code",
   "execution_count": 8,
   "id": "04136bf3",
   "metadata": {},
   "outputs": [],
   "source": [
    "generation_chain = generation_prompt | generation_llm\n",
    "evaluation_chain = evaluation_prompt | structure_evaluation_llm\n",
    "optimize_chain = optimize_prompt | optimize_llm"
   ]
  },
  {
   "cell_type": "code",
   "execution_count": 9,
   "id": "ab920925",
   "metadata": {},
   "outputs": [],
   "source": [
    "def generate_post(state:MediaPostState)->MediaPostState:\n",
    "    state[\"post\"] = generation_chain.invoke({\"topic\":state[\"topic\"]})\n",
    "    return state\n",
    "\n",
    "\n",
    "def provide_evaluation(state:MediaPostState)->MediaPostState:\n",
    "    answer = evaluation_chain.invoke({\"tweet\":state[\"post\"]})\n",
    "    return {\"evaluation\": answer.evaluation, \"feedback\":answer.feedback}\n",
    "\n",
    "def optimize_tweet(state:MediaPostState)->MediaPostState:\n",
    "    state[\"post\"] = optimize_chain.invoke({\"feedback\":state[\"feedback\"], \"topic\":state[\"topic\"], \"tweet\":state[\"post\"]})\n",
    "    state[\"max_iteration\"] = state[\"max_iteration\"] + 1\n",
    "    return state"
   ]
  },
  {
   "cell_type": "code",
   "execution_count": 10,
   "id": "0216bc57",
   "metadata": {},
   "outputs": [],
   "source": [
    "def condition_check(state:MediaPostState):\n",
    "    if state[\"evaluation\"] == \"approved\" or state[\"max_iteration\"] == 5:\n",
    "        return \"approved\"\n",
    "    else:\n",
    "        return \"needs_improvement\""
   ]
  },
  {
   "cell_type": "code",
   "execution_count": 11,
   "id": "9b298134",
   "metadata": {},
   "outputs": [],
   "source": [
    "graph = StateGraph(MediaPostState)\n",
    "\n",
    "graph.add_node(\"generate_post\", generate_post)\n",
    "graph.add_node(\"provide_evaluation\", provide_evaluation)\n",
    "graph.add_node(\"optimize_tweet\", optimize_tweet)\n",
    "\n",
    "graph.add_edge(START,\"generate_post\")\n",
    "graph.add_edge(\"generate_post\", \"provide_evaluation\")\n",
    "graph.add_conditional_edges(\"provide_evaluation\", condition_check, {\"approved\":END, \"needs_improvement\":\"optimize_tweet\"})\n",
    "graph.add_edge(\"optimize_tweet\", \"provide_evaluation\")\n",
    "\n",
    "workflow = graph.compile()"
   ]
  },
  {
   "cell_type": "code",
   "execution_count": 12,
   "id": "0a5f46e1",
   "metadata": {},
   "outputs": [
    {
     "data": {
      "image/png": "[encoded data removed]",
      "text/plain": [
       "<langgraph.graph.state.CompiledStateGraph object at 0x122cb1f90>"
      ]
     },
     "execution_count": 12,
     "metadata": {},
     "output_type": "execute_result"
    }
   ],
   "source": [
    "workflow"
   ]
  },
  {
   "cell_type": "code",
   "execution_count": 13,
   "id": "caeba3f6",
   "metadata": {},
   "outputs": [
    {
     "data": {
      "text/plain": [
       "{'topic': 'Trending in AI field',\n",
       " 'post': AIMessage(content='Here are a few options for a revised tweet, aiming for virality and humor:\\n\\n**Option 1 (Sarcastic & Relatable):**\\n\\n> My AI-generated dating profile says I enjoy \"debugging my emotions.\"  Yeah, swipe left. Send chocolate. #AIDating #AIfail #singledumb\\n\\n\\n**Option 2 (Absurdist Humor):**\\n\\n> AI wrote my dating profile.  My ideal date?  A 1TB hard drive.  Someone send help (and maybe a backup). #AIgonewild #robotlove #datingdisaster\\n\\n\\n**Option 3 (Self-Deprecating & Funny):**\\n\\n> Asked AI to write my dating profile. It suggested my \"greatest strength is processing large datasets.\"  Guess I\\'ll keep swiping. #AIromance #foreveralone #datingsucks\\n\\n\\n**Option 4 (More concise and punchy):**\\n\\n> AI dating profile: \"Passionate about binary code.\"  My dating life: 01000010 01101111 01101100 01101100 01101111. #AIProblems #DatingFail\\n\\n\\nThese options improve on the original by:\\n\\n* **Stronger punchlines:**  They offer more unexpected and humorous twists.\\n* **Relatability:** They tap into common dating app frustrations.\\n* **Improved hashtags:** More specific and trending hashtags are used.\\n* **Conciseness:**  Tweets are shorter and punchier.\\n\\nThe key is to lean into the absurdity of the premise and make the humor more immediate and relatable.', additional_kwargs={}, response_metadata={'prompt_feedback': {'block_reason': 0, 'safety_ratings': []}, 'finish_reason': 'STOP', 'model_name': 'gemini-1.5-flash', 'safety_ratings': []}, id='run--2cee76a5-ae40-4315-812b-36db88e98748-0', usage_metadata={'input_tokens': 358, 'output_tokens': 348, 'total_tokens': 706, 'input_token_details': {'cache_read': 0}}),\n",
       " 'evaluation': 'needs_improvement',\n",
       " 'feedback': 'This is not a tweet but a list of potential tweets, making it unsuitable for direct evaluation. It lacks the conciseness and immediate impact required for a single, effective tweet. Although the individual options demonstrate attempts at humor and relatability, the overall format fails to meet the criteria of a well-formed tweet ready for posting.',\n",
       " 'max_iteration': 5}"
      ]
     },
     "execution_count": 13,
     "metadata": {},
     "output_type": "execute_result"
    }
   ],
   "source": [
    "response = workflow.invoke({\"topic\": \"Trending in AI field\", \"max_iteration\": 0})\n",
    "response"
   ]
  }
 ],
 "metadata": {
  "kernelspec": {
   "display_name": "env",
   "language": "python",
   "name": "python3"
  },
  "language_info": {
   "codemirror_mode": {
    "name": "ipython",
    "version": 3
   },
   "file_extension": ".py",
   "mimetype": "text/x-python",
   "name": "python",
   "nbconvert_exporter": "python",
   "pygments_lexer": "ipython3",
   "version": "3.11.9"
  }
 },
 "nbformat": 4,
 "nbformat_minor": 5
}
