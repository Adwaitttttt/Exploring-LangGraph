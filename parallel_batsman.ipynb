{
 "cells": [
  {
   "cell_type": "code",
   "execution_count": 1,
   "id": "625d2d28",
   "metadata": {},
   "outputs": [],
   "source": [
    "from langgraph.graph import StateGraph, START, END\n",
    "from typing import TypedDict"
   ]
  },
  {
   "cell_type": "code",
   "execution_count": 2,
   "id": "55618e1d",
   "metadata": {},
   "outputs": [],
   "source": [
    "class State(TypedDict):\n",
    "    runs:int\n",
    "    balls:int\n",
    "    four:int\n",
    "    six:int\n",
    "\n",
    "    sr:float\n",
    "    bpb:float\n",
    "    boundary_percentage:float\n",
    "    summary:str"
   ]
  },
  {
   "cell_type": "code",
   "execution_count": 15,
   "id": "57a2c93d",
   "metadata": {},
   "outputs": [],
   "source": [
    "def calculate_sr(state:State)->State:\n",
    "    state[\"sr\"] = (state[\"runs\"]/state[\"balls\"])*100\n",
    "    return {\"sr\":state[\"sr\"]}\n",
    "\n",
    "def calculate_bpb(state:State)->State:\n",
    "    state[\"bpb\"] = (state[\"balls\"]/(state[\"four\"] + state[\"six\"]))\n",
    "    return {\"bpb\": state[\"bpb\"]}\n",
    "\n",
    "def calculate_boundary_percentage(state:State)->State:\n",
    "    state[\"boundary_percentage\"] = (((state['four'] * 4) + (state['six'] * 6))/state['runs'])*100\n",
    "    return {\"boundary_percentage\": state[\"boundary_percentage\"]}\n",
    "\n",
    "def summary(state: State)->State:\n",
    "\n",
    "    state[\"summary\"] = f\"\"\"\n",
    "Strike Rate - {state['sr']} \\n\n",
    "Balls per boundary - {state['bpb']} \\n\n",
    "Boundary percent - {state['boundary_percentage']}\n",
    "\"\"\"\n",
    "    \n",
    "    return {\"summary\":state[\"summary\"]}"
   ]
  },
  {
   "cell_type": "code",
   "execution_count": 16,
   "id": "95b3c3d5",
   "metadata": {},
   "outputs": [],
   "source": [
    "graph = StateGraph(State)\n",
    "\n",
    "graph.add_node(\"calculate_sr\", calculate_sr),\n",
    "graph.add_node(\"calculate_bpb\", calculate_bpb)\n",
    "graph.add_node(\"calculate_boundary_percentage\", calculate_boundary_percentage)\n",
    "graph.add_node(\"summary\", summary)\n",
    "\n",
    "graph.add_edge(START, \"calculate_sr\")\n",
    "graph.add_edge(START, \"calculate_bpb\")\n",
    "graph.add_edge(START, \"calculate_boundary_percentage\")\n",
    "\n",
    "graph.add_edge(\"calculate_sr\", \"summary\")\n",
    "graph.add_edge(\"calculate_bpb\", \"summary\")\n",
    "graph.add_edge(\"calculate_boundary_percentage\", \"summary\")\n",
    "\n",
    "graph.add_edge(\"summary\", END)\n",
    "\n",
    "workflow = graph.compile()"
   ]
  },
  {
   "cell_type": "code",
   "execution_count": 17,
   "id": "03856971",
   "metadata": {},
   "outputs": [
    {
     "data": {
      "text/plain": [
       "{'runs': 100,\n",
       " 'balls': 50,\n",
       " 'four': 6,\n",
       " 'six': 4,\n",
       " 'sr': 200.0,\n",
       " 'bpb': 5.0,\n",
       " 'boundary_percentage': 48.0,\n",
       " 'summary': '\\nStrike Rate - 200.0 \\n\\nBalls per boundary - 5.0 \\n\\nBoundary percent - 48.0\\n'}"
      ]
     },
     "execution_count": 17,
     "metadata": {},
     "output_type": "execute_result"
    }
   ],
   "source": [
    "intial_state = {\n",
    "    'runs': 100,\n",
    "    'balls': 50,\n",
    "    'four': 6,\n",
    "    'six': 4\n",
    "}\n",
    "\n",
    "workflow.invoke(intial_state)"
   ]
  }
 ],
 "metadata": {
  "kernelspec": {
   "display_name": "env",
   "language": "python",
   "name": "python3"
  },
  "language_info": {
   "codemirror_mode": {
    "name": "ipython",
    "version": 3
   },
   "file_extension": ".py",
   "mimetype": "text/x-python",
   "name": "python",
   "nbconvert_exporter": "python",
   "pygments_lexer": "ipython3",
   "version": "3.10.6"
  }
 },
 "nbformat": 4,
 "nbformat_minor": 5
}
