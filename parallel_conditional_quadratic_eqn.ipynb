{
 "cells": [
  {
   "cell_type": "code",
   "execution_count": 1,
   "id": "36a21875",
   "metadata": {},
   "outputs": [
    {
     "data": {
      "text/plain": [
       "True"
      ]
     },
     "execution_count": 1,
     "metadata": {},
     "output_type": "execute_result"
    }
   ],
   "source": [
    "import os \n",
    "from dotenv import load_dotenv\n",
    "\n",
    "load_dotenv()"
   ]
  },
  {
   "cell_type": "code",
   "execution_count": 2,
   "id": "80106e87",
   "metadata": {},
   "outputs": [],
   "source": [
    "from langgraph.graph import StateGraph, START, END\n",
    "from typing import TypedDict, Literal"
   ]
  },
  {
   "cell_type": "code",
   "execution_count": 3,
   "id": "12026e66",
   "metadata": {},
   "outputs": [],
   "source": [
    "import string\n",
    "\n",
    "\n",
    "class State(TypedDict):\n",
    "    a:int\n",
    "    b:int\n",
    "    c:int\n",
    "\n",
    "    equation:str\n",
    "    descriminator:float\n",
    "    final:str\n",
    "    "
   ]
  },
  {
   "cell_type": "code",
   "execution_count": 4,
   "id": "eebcb6b4",
   "metadata": {},
   "outputs": [],
   "source": [
    "from typing import Literal\n",
    "\n",
    "\n",
    "def equvation_generator(state:State)->State:\n",
    "    state[\"equation\"] = f'{state[\"a\"]}x^2 + {state[\"b\"]}x + {state[\"c\"]}'\n",
    "    return state\n",
    "\n",
    "def calculate_discriminant(state:State)->State:\n",
    "    state[\"descriminator\"] = state[\"b\"]**2 - (4*state[\"a\"]*state[\"c\"])\n",
    "    return state\n",
    "\n",
    "def real_roots(state: State)->State:\n",
    "    root1 = (-state[\"b\"] + state[\"descriminator\"]**0.5)/(2*state[\"a\"])\n",
    "    root2 = (-state[\"b\"] - state[\"descriminator\"]**0.5)/(2*state[\"a\"])\n",
    "    state[\"final\"] = f'The roots are {root1} and {root2}'\n",
    "    return state\n",
    "\n",
    "def repeated_roots(state: State)->State:\n",
    "    root = (-state[\"b\"])/(2*state[\"a\"])\n",
    "    state[\"final\"] = f'Only repeating root is {root}'\n",
    "    return state\n",
    "\n",
    "def no_real_roots(state: State)->State:\n",
    "    state[\"final\"] = f'No real roots'\n",
    "    return state\n",
    "\n",
    "def check_condition(state:State)->Literal[\"real_roots\", \"repeated_roots\", \"no_real_roots\"]:\n",
    "    if state['descriminator'] > 0:\n",
    "        return \"real_roots\"\n",
    "    elif state['descriminator'] == 0:\n",
    "        return \"repeated_roots\"\n",
    "    else:\n",
    "        return \"no_real_roots\""
   ]
  },
  {
   "cell_type": "code",
   "execution_count": 7,
   "id": "da900b11",
   "metadata": {},
   "outputs": [
    {
     "data": {
      "text/plain": [
       "<langgraph.graph.state.StateGraph at 0x10d120650>"
      ]
     },
     "execution_count": 7,
     "metadata": {},
     "output_type": "execute_result"
    }
   ],
   "source": [
    "graph = StateGraph(State)\n",
    "\n",
    "graph.add_node(\"equvation_generator\", equvation_generator)\n",
    "graph.add_node(\"calculate_discriminant\", calculate_discriminant)\n",
    "graph.add_node(\"real_roots\", real_roots)\n",
    "graph.add_node(\"repeated_roots\", repeated_roots)\n",
    "graph.add_node(\"no_real_roots\", no_real_roots)\n",
    "# graph.add_node(\"check_condition\", check_condition)"
   ]
  },
  {
   "cell_type": "code",
   "execution_count": 8,
   "id": "bc05a142",
   "metadata": {},
   "outputs": [
    {
     "data": {
      "text/plain": [
       "<langgraph.graph.state.StateGraph at 0x10d120650>"
      ]
     },
     "execution_count": 8,
     "metadata": {},
     "output_type": "execute_result"
    }
   ],
   "source": [
    "graph.add_edge(START, \"equvation_generator\")\n",
    "graph.add_edge(\"equvation_generator\", \"calculate_discriminant\")\n",
    "graph.add_conditional_edges(\"calculate_discriminant\", check_condition)\n",
    "graph.add_edge(\"real_roots\", END)\n",
    "graph.add_edge(\"repeated_roots\", END)\n",
    "graph.add_edge(\"no_real_roots\", END)"
   ]
  },
  {
   "cell_type": "code",
   "execution_count": 9,
   "id": "c31cfb52",
   "metadata": {},
   "outputs": [
    {
     "data": {
      "image/png": "[encoded data removed]",
      "text/plain": [
       "<langgraph.graph.state.CompiledStateGraph object at 0x10d64e750>"
      ]
     },
     "execution_count": 9,
     "metadata": {},
     "output_type": "execute_result"
    }
   ],
   "source": [
    "workflow = graph.compile()\n",
    "workflow"
   ]
  },
  {
   "cell_type": "code",
   "execution_count": null,
   "id": "69171241",
   "metadata": {},
   "outputs": [
    {
     "data": {
      "text/plain": [
       "{'a': 2,\n",
       " 'b': 4,\n",
       " 'c': 2,\n",
       " 'equation': '2x^2 + 4x + 2',\n",
       " 'descriminator': 0,\n",
       " 'final': 'Only repeating root is -1.0'}"
      ]
     },
     "execution_count": 8,
     "metadata": {},
     "output_type": "execute_result"
    }
   ],
   "source": [
    "initial_state = {\n",
    "    'a': 2, \n",
    "    'b': 4,\n",
    "    'c': 2\n",
    "}\n",
    "\n",
    "workflow.invoke(initial_state)"
   ]
  }
 ],
 "metadata": {
  "kernelspec": {
   "display_name": "env",
   "language": "python",
   "name": "python3"
  },
  "language_info": {
   "codemirror_mode": {
    "name": "ipython",
    "version": 3
   },
   "file_extension": ".py",
   "mimetype": "text/x-python",
   "name": "python",
   "nbconvert_exporter": "python",
   "pygments_lexer": "ipython3",
   "version": "3.11.9"
  }
 },
 "nbformat": 4,
 "nbformat_minor": 5
}
