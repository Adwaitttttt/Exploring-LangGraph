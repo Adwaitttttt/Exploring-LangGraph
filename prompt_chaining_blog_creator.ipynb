{
 "cells": [
  {
   "cell_type": "code",
   "execution_count": 1,
   "id": "7d3749c8",
   "metadata": {},
   "outputs": [],
   "source": [
    "import os \n",
    "from dotenv import load_dotenv\n",
    "\n",
    "load_dotenv()\n",
    "\n",
    "GOOGLE_API_KEY = os.getenv(\"GOOGLE_API_KEY\")"
   ]
  },
  {
   "cell_type": "code",
   "execution_count": 2,
   "id": "4ce3ab3e",
   "metadata": {},
   "outputs": [],
   "source": [
    "from langchain_google_genai import ChatGoogleGenerativeAI\n",
    "from langchain_core.prompts import ChatPromptTemplate\n",
    "from langgraph.graph import StateGraph, START, END\n",
    "from typing import TypedDict"
   ]
  },
  {
   "cell_type": "code",
   "execution_count": 3,
   "id": "f6692c3c",
   "metadata": {},
   "outputs": [],
   "source": [
    "llm = ChatGoogleGenerativeAI(\n",
    "    model=\"gemini-2.0-flash\",\n",
    "    temperature=0.7,\n",
    ")\n",
    "\n",
    "outline_prompt = ChatPromptTemplate.from_template(\n",
    "    \"Generate a detailed outline for a blog on the topic - {topic}\"\n",
    ")\n",
    "\n",
    "content_prompt = ChatPromptTemplate.from_template(\n",
    "    \"Write a detailed blog on the title - {topic} using the following outline \\n {outline}\"\n",
    ")\n",
    "\n",
    "outline_chain = outline_prompt | llm\n",
    "content_chain = content_prompt | llm"
   ]
  },
  {
   "cell_type": "code",
   "execution_count": 4,
   "id": "94ab23bc",
   "metadata": {},
   "outputs": [],
   "source": [
    "class State(TypedDict):\n",
    "    topic:str\n",
    "    outline:str\n",
    "    content:str"
   ]
  },
  {
   "cell_type": "code",
   "execution_count": 5,
   "id": "a793a079",
   "metadata": {},
   "outputs": [],
   "source": [
    "def generate_outline(state: State) -> State:\n",
    "    state[\"outline\"] = outline_chain.invoke({\"topic\":state[\"topic\"]})\n",
    "    return state\n",
    "\n",
    "def generate_content(state: State) -> State:\n",
    "    state['content'] = content_chain.invoke({\"topic\":state[\"topic\"], \"outline\":state[\"outline\"]})\n",
    "    return state"
   ]
  },
  {
   "cell_type": "code",
   "execution_count": 6,
   "id": "350984ef",
   "metadata": {},
   "outputs": [],
   "source": [
    "graph = StateGraph(State)\n",
    "\n",
    "graph.add_node(\"generate_outline\", generate_outline)\n",
    "graph.add_node(\"generate_content\", generate_content)\n",
    "\n",
    "graph.add_edge(START, \"generate_outline\")\n",
    "graph.add_edge(\"generate_outline\", \"generate_content\")\n",
    "graph.add_edge(\"generate_content\", END)\n",
    "\n",
    "workflow = graph.compile()"
   ]
  },
  {
   "cell_type": "code",
   "execution_count": 9,
   "id": "944995f5",
   "metadata": {},
   "outputs": [
    {
     "name": "stdout",
     "output_type": "stream",
     "text": [
      "## The AI Revolution is Here: How Artificial Intelligence is Reshaping India\n",
      "\n",
      "**I. Introduction**\n",
      "\n",
      "Imagine a future where farmers optimize crop yields with pinpoint accuracy, doctors diagnose diseases with unparalleled speed, and financial institutions detect fraud before it even happens. This isn't science fiction; it's the promise of Artificial Intelligence (AI) unfolding in India today. With investments in AI soaring to unprecedented levels, exceeding \\$10 billion in the last year alone, India is rapidly emerging as a global AI hub. This blog explores the transformative power of AI in India, highlighting both the immense opportunities and the critical challenges that lie ahead. We'll delve into India's readiness for AI, examine its applications across key sectors, address the associated concerns, and finally, look towards the exciting future of AI in the country.\n",
      "\n",
      "**II. Setting the Stage: India's Readiness for AI**\n",
      "\n",
      "India possesses a unique combination of factors that make it ripe for AI adoption.\n",
      "\n",
      "*   **A. Demographics & Talent Pool:** India boasts a young and tech-savvy population, with a median age significantly lower than many developed nations. This demographic dividend translates to a large pool of potential AI talent. Each year, India produces a growing number of STEM graduates specializing in fields like data science, machine learning, and artificial intelligence, providing a strong foundation for AI innovation.\n",
      "\n",
      "*   **B. Digital Infrastructure & Connectivity:** The digital landscape in India is rapidly evolving. Increasing internet penetration, fueled by affordable mobile data and widespread mobile phone usage, is connecting millions. Government initiatives like BharatNet are further expanding digital infrastructure to rural areas. The growth of cloud computing and data centers provides the necessary infrastructure for AI applications to thrive.\n",
      "\n",
      "*   **C. Government Support & Policies:** The Indian government recognizes the transformative potential of AI and is actively promoting its adoption. The National Strategy for Artificial Intelligence, spearheaded by NITI Aayog, outlines a roadmap for AI development and deployment. The government is also providing incentives and funding for AI research and development, fostering a supportive regulatory environment, and working towards robust data protection policies.\n",
      "\n",
      "**III. AI Applications Across Key Sectors in India**\n",
      "\n",
      "AI is no longer a futuristic concept; it's being actively deployed across various sectors in India, driving innovation and efficiency.\n",
      "\n",
      "*   **A. Healthcare:** AI is revolutionizing healthcare in India. AI-powered diagnostics are enabling faster and more accurate disease detection. Personalized medicine, tailored to individual patient needs, is becoming a reality. AI is also accelerating drug discovery and development, while robotic surgery and remote patient monitoring are improving access to quality healthcare, especially in underserved areas. For example, AI-powered chatbots are providing 24/7 patient support, answering queries and scheduling appointments. Image recognition technology is being used to detect diseases like cancer from medical images with remarkable accuracy.\n",
      "\n",
      "*   **B. Agriculture:** India's agriculture sector is also benefiting from AI. Precision farming techniques, utilizing drones and sensors, are optimizing resource utilization and improving crop yields. AI-driven weather forecasting is helping farmers anticipate and mitigate the impact of adverse weather conditions. AI is also playing a crucial role in pest control, reducing crop damage and improving productivity. Furthermore, AI-powered platforms are optimizing supply chains and improving market access for farmers. Examples include AI-powered irrigation systems that automatically adjust water usage based on soil moisture levels and predictive analytics tools that forecast crop yields with impressive precision.\n",
      "\n",
      "*   **C. Finance & Banking:** The finance and banking sector in India is leveraging AI to enhance security, efficiency, and customer experience. AI is being used for fraud detection and risk management, identifying and preventing fraudulent transactions. Algorithmic trading and investment analysis are improving investment decisions and maximizing returns. Personalized financial advice is being delivered through AI-powered chatbots, providing customers with tailored recommendations. AI-powered loan applications are streamlining the lending process, while fraud detection systems are protecting financial institutions and their customers from cyber threats.\n",
      "\n",
      "*   **D. Manufacturing:** AI is transforming India's manufacturing sector through robotics and automation. Robots are performing repetitive and dangerous tasks on production lines, improving efficiency and safety. Predictive maintenance systems are identifying potential equipment failures before they occur, minimizing downtime and reducing maintenance costs. AI is also optimizing supply chains and logistics, ensuring timely delivery of goods and materials. AI-powered robots are being used for assembly line tasks, while predictive maintenance systems are monitoring the performance of machinery and predicting potential failures.\n",
      "\n",
      "*   **E. Education:** AI is personalizing the learning experience and improving educational outcomes in India. Personalized learning platforms are adapting to individual student needs and learning styles. AI-powered tutoring systems are providing students with customized support and guidance. Automated grading tools are freeing up teachers' time, allowing them to focus on more personalized instruction. AI-powered personalized learning platforms are providing students with customized learning paths, while automated essay grading tools are streamlining the assessment process.\n",
      "\n",
      "**IV. Challenges & Concerns**\n",
      "\n",
      "While the potential of AI in India is immense, it's crucial to acknowledge and address the associated challenges and concerns.\n",
      "\n",
      "*   **A. Data Privacy & Security:** The increasing reliance on AI raises concerns about data privacy and security. Data breaches and misuse of personal data are potential risks. Robust data protection regulations and ethical AI frameworks are essential to ensure responsible data handling.\n",
      "\n",
      "*   **B. Skill Gap & Training:** India faces a shortage of skilled AI professionals and data scientists. Reskilling and upskilling programs are needed to prepare the workforce for the AI era. Investing in AI education and training is crucial to building a strong AI talent pipeline.\n",
      "\n",
      "*   **C. Ethical Considerations:** Bias in algorithms and the potential for discrimination are ethical concerns that need to be addressed. Job displacement due to automation is another concern that requires proactive planning and mitigation strategies. Responsible AI development and deployment are essential to ensure that AI benefits all segments of society.\n",
      "\n",
      "*   **D. Infrastructure Limitations:** Uneven access to internet and computing resources in rural areas is a significant challenge. Investing in infrastructure is crucial to support widespread AI adoption, particularly in underserved communities.\n",
      "\n",
      "**V. The Future of AI in India**\n",
      "\n",
      "The future of AI in India is bright, with significant growth potential and transformative impact.\n",
      "\n",
      "*   **A. Growth Projections & Market Opportunities:** Forecasts predict significant growth in AI spending and market size in India. Emerging opportunities are arising in specific AI sub-fields, such as Natural Language Processing (NLP) and computer vision.\n",
      "\n",
      "*   **B. Potential Impact on the Economy & Society:** AI has the potential to significantly increase productivity and drive economic growth in India. It can also improve healthcare outcomes, enhance the quality of life, and create new jobs and business models.\n",
      "\n",
      "*   **C. Key Trends to Watch:** Key trends to watch include the rise of edge computing and AI at the edge, the increasing focus on AI for social good and sustainable development, and the role of AI in addressing India's unique challenges.\n",
      "\n",
      "**VI. Conclusion**\n",
      "\n",
      "AI is poised to revolutionize India, offering unprecedented opportunities for economic growth, social development, and improved quality of life. However, it's crucial to address the associated challenges and concerns proactively. By fostering a supportive regulatory environment, investing in AI education and training, and prioritizing responsible AI development, India can harness the transformative power of AI to create a brighter future for all.\n",
      "\n",
      "Learn more about AI and its impact on India. Participate in AI communities and contribute to its responsible development and adoption. Share your thoughts and insights in the comments below!\n"
     ]
    }
   ],
   "source": [
    "response = workflow.invoke({'topic':'Rise of AI in India'})\n",
    "print(response[\"content\"].content)"
   ]
  },
  {
   "cell_type": "code",
   "execution_count": 8,
   "id": "334b41fd",
   "metadata": {},
   "outputs": [
    {
     "data": {
      "image/png": "[encoded data removed]",
      "text/plain": [
       "<IPython.core.display.Image object>"
      ]
     },
     "execution_count": 8,
     "metadata": {},
     "output_type": "execute_result"
    }
   ],
   "source": [
    "from IPython.display import Image\n",
    "Image(workflow.get_graph().draw_mermaid_png())"
   ]
  }
 ],
 "metadata": {
  "kernelspec": {
   "display_name": "env",
   "language": "python",
   "name": "python3"
  },
  "language_info": {
   "codemirror_mode": {
    "name": "ipython",
    "version": 3
   },
   "file_extension": ".py",
   "mimetype": "text/x-python",
   "name": "python",
   "nbconvert_exporter": "python",
   "pygments_lexer": "ipython3",
   "version": "3.10.6"
  }
 },
 "nbformat": 4,
 "nbformat_minor": 5
}
